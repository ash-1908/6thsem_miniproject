{
  "nbformat": 4,
  "nbformat_minor": 0,
  "metadata": {
    "colab": {
      "name": "Miniproject_6thSem.ipynb",
      "provenance": [],
      "authorship_tag": "ABX9TyPBvGSwlkLEkBnCTd4gBipm",
      "include_colab_link": true
    },
    "kernelspec": {
      "name": "python3",
      "display_name": "Python 3"
    },
    "language_info": {
      "name": "python"
    }
  },
  "cells": [
    {
      "cell_type": "markdown",
      "metadata": {
        "id": "view-in-github",
        "colab_type": "text"
      },
      "source": [
        "<a href=\"https://colab.research.google.com/github/ash-1908/6thsem_miniproject/blob/main/Miniproject_6thSem.ipynb\" target=\"_parent\"><img src=\"https://colab.research.google.com/assets/colab-badge.svg\" alt=\"Open In Colab\"/></a>"
      ]
    },
    {
      "cell_type": "code",
      "metadata": {
        "id": "U-R3UCmQB3JE"
      },
      "source": [
        "# Mini-project on Sentiment Analysis on Twitter                                                  by : Anmol Sharma | University Roll Number : 2013258 | Semester : 6th  "
      ],
      "execution_count": 1,
      "outputs": []
    },
    {
      "cell_type": "code",
      "metadata": {
        "id": "KKxq0VuNCl3O"
      },
      "source": [
        "# importing all the needed libraries\n",
        "\n",
        "import pandas as pd\n",
        "import tweepy \n",
        "import re\n",
        "from textblob import TextBlob\n",
        "from matplotlib import pyplot as plt"
      ],
      "execution_count": 2,
      "outputs": []
    },
    {
      "cell_type": "code",
      "metadata": {
        "id": "qO1j7cji7UNN"
      },
      "source": [
        "# Connecting to Twitter API\n",
        "\n",
        "            # Twitter api credentials\n",
        "consumerKey = \"5ncq7oBTeVhEJdyFosd3bzLSA\"\n",
        "consumerSecret = \"Madxq8u27y5xRqe0d0QdhZQ1Dz38D0usUmCoOE2tYhUUZQqhek\"\n",
        "accessToken = \"854848982152957952-GMhMQqNFq3gqITiApTzPuONmHQLS2XC\"\n",
        "accessTokenSecret = \"LlpKQexciV5AOqduoqO5iwukgFpj1GnvbMEMUkNWItKCu\"\n",
        "\n",
        "            # Creating an authentication object\n",
        "auth = tweepy.OAuthHandler(consumerKey, consumerSecret)\n",
        "            \n",
        "            # Setting up access token\n",
        "auth.set_access_token(accessToken, accessTokenSecret)\n",
        "            \n",
        "            # Creating an API object\n",
        "api = tweepy.API(auth)"
      ],
      "execution_count": 3,
      "outputs": []
    },
    {
      "cell_type": "code",
      "metadata": {
        "id": "667nHTVuD423"
      },
      "source": [
        "#   First : Sentiment Analysis on keyword \"#covid\""
      ],
      "execution_count": 4,
      "outputs": []
    },
    {
      "cell_type": "code",
      "metadata": {
        "id": "0p2DnZzNRxqr"
      },
      "source": [
        "# Retrieving posts using twitter api \n",
        "posts = api.search(q = \"#covid\", count = 100, lang = \"en\", tweet_mode = \"extended\")\n",
        "\n",
        "# Displaying top 5 tweets\n",
        "for tweet in posts[0:5]:\n",
        "  print(tweet.full_text)"
      ],
      "execution_count": null,
      "outputs": []
    },
    {
      "cell_type": "code",
      "metadata": {
        "id": "FOpyn1sIVMu5"
      },
      "source": [
        "# Creating a dataframe\n",
        "df = pd.DataFrame([tweet.full_text for tweet in posts], columns=['Tweet'])\n",
        "\n",
        "# Displaying head of dataframe\n",
        "df.head()"
      ],
      "execution_count": null,
      "outputs": []
    },
    {
      "cell_type": "code",
      "metadata": {
        "id": "AcNEHsJ9tMgP"
      },
      "source": [
        "# Removing unnecessary links, mentions, retweets\n",
        "def prepTweet(tweet):\n",
        "  tweet = re.sub(r'@[A-Za-z0-9:]+', '', tweet)\n",
        "  tweet = re.sub(r'#', '', tweet)\n",
        "  tweet = re.sub(r'[\\n]', '', tweet)\n",
        "  tweet = re.sub(r'https?:\\/\\/\\S+', '', tweet)\n",
        "  tweet = re.sub(r'RT[\\s]', '', tweet)\n",
        "  tweet = re.sub(r'[,.\"\";:!$()*&^]', '', tweet)\n",
        "  return tweet\n",
        "\n",
        "df['Tweet'] = df['Tweet'].apply(prepTweet)\n",
        "df.head()"
      ],
      "execution_count": null,
      "outputs": []
    },
    {
      "cell_type": "code",
      "metadata": {
        "id": "-0zQfaim44dy"
      },
      "source": [
        "# Performing Sentiment Analysis\n",
        "def getSub(tweet):\n",
        "  return TextBlob(tweet).sentiment.subjectivity\n",
        "def getPol(tweet):\n",
        "  return TextBlob(tweet).sentiment.polarity\n",
        "\n",
        "# Creating a column and adding corresponding values\n",
        "df['Subjectivity'] = df['Tweet'].apply(getSub)\n",
        "df['Polarity'] = df['Tweet'].apply(getPol)\n",
        "df.head()"
      ],
      "execution_count": null,
      "outputs": []
    },
    {
      "cell_type": "code",
      "metadata": {
        "id": "WnKRq4bw73VV"
      },
      "source": [
        "# For subjective objective verdict\n",
        "def subObj(value):\n",
        "  if(value >= 0.7 and value <= 1):\n",
        "    return 'Subjective Tweet'\n",
        "  elif(value >= 0.5 and value < 0.7):\n",
        "    return 'Fairly Subjective'\n",
        "  elif(value >= 0.3 and value < 0.5):\n",
        "    return 'Fairly Objective'\n",
        "  else:\n",
        "    return 'Objective Tweet'\n",
        "\n",
        "# Adding a column and adding corresponding values to it \n",
        "df['Subjectivity Analysis'] = df['Subjectivity'].apply(subObj)\n",
        "df.head()"
      ],
      "execution_count": null,
      "outputs": []
    },
    {
      "cell_type": "code",
      "metadata": {
        "id": "VWW_Tya0_w6L"
      },
      "source": [
        "# Function for Polarity analysis\n",
        "def polAnalysis(value):\n",
        "  if(value >= -1 and value < -0.7):\n",
        "    return 'Very Negative Tweet'\n",
        "  elif(value >= -0.7 and value <= -0.3):\n",
        "    return 'Fairly Negative Tweet'\n",
        "  elif(value >= -0.3 and value < 0):\n",
        "    return 'Little Negative Tweet'\n",
        "  elif(value == 0):\n",
        "    return 'Neutral Tweet'\n",
        "  elif(value > 0 and value <= 0.3):\n",
        "    return 'Little Positive Tweet'\n",
        "  elif(value > 0.3  and value <= 0.7):\n",
        "    return 'Fairly Positive Tweet'  \n",
        "  else:\n",
        "    return 'Very Positive Tweet'\n",
        "\n",
        "# Adding a column and adding corresponding values \n",
        "df['Polarity Analysis'] = df['Polarity'].apply(polAnalysis)\n",
        "df.head()"
      ],
      "execution_count": null,
      "outputs": []
    },
    {
      "cell_type": "code",
      "metadata": {
        "id": "0BBFxVROLExt"
      },
      "source": [
        "# Function for calculating Positivity percentage\n",
        "def positiveness(value):\n",
        "  if(value > 0):\n",
        "    x = str(round((value*100), 2)) + '%'\n",
        "    return x\n",
        "  elif(value == 0):\n",
        "    return 'Neutral'\n",
        "  else:\n",
        "    return '-'\n",
        "\n",
        "# Creating a column and adding corresponding values\n",
        "df['Positivity'] = df['Polarity'].apply(positiveness)\n",
        "df.head()"
      ],
      "execution_count": null,
      "outputs": []
    },
    {
      "cell_type": "code",
      "metadata": {
        "id": "5NQdMpZMfXVX"
      },
      "source": [
        "# Function for calculating Negativity percentage\n",
        "def negativeness(value):\n",
        "  if(value < 0):\n",
        "    x = str(round(abs(value)*100, 2)) + '%'\n",
        "    return x\n",
        "  elif(value == 0):\n",
        "    return 'Neutral'\n",
        "  else:\n",
        "    return '-'\n",
        "\n",
        "# Creating a column and adding corresponding values\n",
        "df['Negativity'] = df['Polarity'].apply(negativeness)\n",
        "df.head()"
      ],
      "execution_count": null,
      "outputs": []
    },
    {
      "cell_type": "code",
      "metadata": {
        "id": "kZXiHVVtoJjh"
      },
      "source": [
        "# Displaying total number of all types of tweets\n",
        "print(df['Polarity Analysis'].value_counts())\n",
        "\n",
        "# Plotting all types of tweets\n",
        "df['Polarity Analysis'].value_counts().plot(kind=\"bar\")\n",
        "plt.title(\"Polarity Analysis\")\n",
        "plt.ylabel(\"Count\")\n",
        "plt.xlabel(\"Tweet\")"
      ],
      "execution_count": null,
      "outputs": []
    },
    {
      "cell_type": "code",
      "metadata": {
        "id": "KQk3pAwspMvI"
      },
      "source": [
        "# Second : Sentiment Analysis for the word \"Tesla\""
      ],
      "execution_count": 15,
      "outputs": []
    },
    {
      "cell_type": "code",
      "metadata": {
        "id": "t-ugj_z8GljR"
      },
      "source": [
        "# Retrieving posts with #Tesla\n",
        "posts = api.search(q = \"#Tesla\", lang = \"en\", count = 100, tweet_mode = \"extended\")\n",
        "\n",
        "# Creating a dataframe for posts\n",
        "df = pd.DataFrame([tweet.full_text for tweet in posts], columns = [\"Tweet\"])\n",
        "df.head()"
      ],
      "execution_count": null,
      "outputs": []
    },
    {
      "cell_type": "code",
      "metadata": {
        "id": "S6noVX9MD1qd"
      },
      "source": [
        "# Cleaning the tweets\n",
        "df[\"Tweet\"] = df[\"Tweet\"].apply(prepTweet)\n",
        "df.head()"
      ],
      "execution_count": null,
      "outputs": []
    },
    {
      "cell_type": "code",
      "metadata": {
        "id": "F91eHCtQEG-5"
      },
      "source": [
        "# Performing Sentiment Analysis\n",
        "df[\"Subjectivity\"] = df[\"Tweet\"].apply(getSub)\n",
        "df[\"Polarity\"] = df[\"Tweet\"].apply(getPol)\n",
        "df.head()"
      ],
      "execution_count": null,
      "outputs": []
    },
    {
      "cell_type": "code",
      "metadata": {
        "id": "WBAWchVXEe4V"
      },
      "source": [
        "# Subjectivity and Polarity Analysis\n",
        "df[\"Subjectivity Analysis\"] = df[\"Subjectivity\"].apply(subObj)\n",
        "df[\"Polarity Analysis\"] = df[\"Polarity\"].apply(polAnalysis)\n",
        "df.head()"
      ],
      "execution_count": null,
      "outputs": []
    },
    {
      "cell_type": "code",
      "metadata": {
        "id": "c2pb-8-xE7Aj"
      },
      "source": [
        "# Positivity and Negativity Percentage\n",
        "df[\"Positivity\"] = df[\"Polarity\"].apply(positiveness)\n",
        "df[\"Negativity\"] = df[\"Polarity\"].apply(negativeness)\n",
        "df.head()"
      ],
      "execution_count": null,
      "outputs": []
    },
    {
      "cell_type": "code",
      "metadata": {
        "id": "i0JXFruPFRAX"
      },
      "source": [
        "# Display total types of tweets\n",
        "print(df[\"Polarity Analysis\"].value_counts())\n",
        "\n",
        "# Plotting a graph of all types of tweets\n",
        "df[\"Polarity Analysis\"].value_counts().plot(kind=\"bar\")\n",
        "plt.ylabel(\"Count\")\n",
        "plt.xlabel(\"Tweets\")\n",
        "plt.title(\"Polarity Analysis\")"
      ],
      "execution_count": null,
      "outputs": []
    }
  ]
}